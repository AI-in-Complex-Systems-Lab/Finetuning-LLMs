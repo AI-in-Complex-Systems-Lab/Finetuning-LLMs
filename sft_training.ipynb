{
 "cells": [
  {
   "cell_type": "code",
   "execution_count": 3,
   "id": "b50b06fd",
   "metadata": {},
   "outputs": [
    {
     "name": "stdout",
     "output_type": "stream",
     "text": [
      "Token will not been saved to git credential helper. Pass `add_to_git_credential=True` if you want to set the git credential as well.\n",
      "Token is valid (permission: write).\n",
      "Your token has been saved to /root/.cache/huggingface/token\n",
      "Login successful\n",
      "Tue Dec  5 15:58:31 2023       \n",
      "+-----------------------------------------------------------------------------+\n",
      "| NVIDIA-SMI 525.105.17   Driver Version: 525.105.17   CUDA Version: 12.2     |\n",
      "|-------------------------------+----------------------+----------------------+\n",
      "| GPU  Name        Persistence-M| Bus-Id        Disp.A | Volatile Uncorr. ECC |\n",
      "| Fan  Temp  Perf  Pwr:Usage/Cap|         Memory-Usage | GPU-Util  Compute M. |\n",
      "|                               |                      |               MIG M. |\n",
      "|===============================+======================+======================|\n",
      "|   0  NVIDIA A100-SXM...  On   | 00000000:0F:00.0 Off |                    0 |\n",
      "| N/A   36C    P0    69W / 400W |  43025MiB / 81920MiB |      0%      Default |\n",
      "|                               |                      |             Disabled |\n",
      "+-------------------------------+----------------------+----------------------+\n",
      "|   1  NVIDIA A100-SXM...  On   | 00000000:15:00.0 Off |                    0 |\n",
      "| N/A   34C    P0    64W / 400W |      3MiB / 81920MiB |      0%      Default |\n",
      "|                               |                      |             Disabled |\n",
      "+-------------------------------+----------------------+----------------------+\n",
      "|   2  NVIDIA A100-SXM...  On   | 00000000:50:00.0 Off |                    0 |\n",
      "| N/A   34C    P0    61W / 400W |      3MiB / 81920MiB |      0%      Default |\n",
      "|                               |                      |             Disabled |\n",
      "+-------------------------------+----------------------+----------------------+\n",
      "|   3  NVIDIA A100-SXM...  On   | 00000000:53:00.0 Off |                    0 |\n",
      "| N/A   34C    P0    60W / 400W |      3MiB / 81920MiB |      0%      Default |\n",
      "|                               |                      |             Disabled |\n",
      "+-------------------------------+----------------------+----------------------+\n",
      "|   4  NVIDIA A100-SXM...  On   | 00000000:8C:00.0 Off |                    0 |\n",
      "| N/A   34C    P0    63W / 400W |      3MiB / 81920MiB |      0%      Default |\n",
      "|                               |                      |             Disabled |\n",
      "+-------------------------------+----------------------+----------------------+\n",
      "|   5  NVIDIA A100-SXM...  On   | 00000000:91:00.0 Off |                    0 |\n",
      "| N/A   34C    P0    63W / 400W |      3MiB / 81920MiB |      0%      Default |\n",
      "|                               |                      |             Disabled |\n",
      "+-------------------------------+----------------------+----------------------+\n",
      "|   6  NVIDIA A100-SXM...  On   | 00000000:D6:00.0 Off |                    0 |\n",
      "| N/A   35C    P0    62W / 400W |      3MiB / 81920MiB |      0%      Default |\n",
      "|                               |                      |             Disabled |\n",
      "+-------------------------------+----------------------+----------------------+\n",
      "|   7  NVIDIA A100-SXM...  On   | 00000000:DA:00.0 Off |                    0 |\n",
      "| N/A   35C    P0    63W / 400W |      3MiB / 81920MiB |      0%      Default |\n",
      "|                               |                      |             Disabled |\n",
      "+-------------------------------+----------------------+----------------------+\n",
      "                                                                               \n",
      "+-----------------------------------------------------------------------------+\n",
      "| Processes:                                                                  |\n",
      "|  GPU   GI   CI        PID   Type   Process name                  GPU Memory |\n",
      "|        ID   ID                                                   Usage      |\n",
      "|=============================================================================|\n",
      "+-----------------------------------------------------------------------------+\n"
     ]
    }
   ],
   "source": [
    "#!pip -qq install huggingface_hub\n",
    "#!pip -qq install -U bitsandbytes\n",
    "#!pip -qq install sentencepiece\n",
    "#!pip -qq install -U transformers@git+https://github.com/huggingface/transformers.git\n",
    "#!pip -qq install -U peft@git+https://github.com/huggingface/peft.git\n",
    "#!pip -qq install -U accelerate@git+https://github.com/huggingface/accelerate.git\n",
    "\n",
    "from huggingface_hub import login\n",
    "login(token='YOUR_HUGGINGFACE_TOKEN')\n",
    "\n",
    "!nvidia-smi"
   ]
  },
  {
   "cell_type": "code",
   "execution_count": 4,
   "id": "ec0d3d96",
   "metadata": {},
   "outputs": [
    {
     "name": "stderr",
     "output_type": "stream",
     "text": [
      "2023-12-05 15:58:36.068150: I tensorflow/core/platform/cpu_feature_guard.cc:183] This TensorFlow binary is optimized to use available CPU instructions in performance-critical operations.\n",
      "To enable the following instructions: SSE3 SSE4.1 SSE4.2 AVX, in other operations, rebuild TensorFlow with the appropriate compiler flags.\n"
     ]
    }
   ],
   "source": [
    "from sklearn.model_selection import train_test_split\n",
    "from sklearn.metrics import f1_score, precision_score, recall_score\n",
    "import pandas as pd\n",
    "import torch, gc\n",
    "from datasets import Dataset, load_dataset\n",
    "from peft import LoraConfig, PeftModel, AutoPeftModelForCausalLM, get_peft_model, prepare_model_for_kbit_training\n",
    "from transformers import (\n",
    "    AutoModelForCausalLM,\n",
    "    AutoTokenizer,\n",
    "    BitsAndBytesConfig,\n",
    "    TrainingArguments,\n",
    ")\n",
    "from trl import SFTTrainer, DataCollatorForCompletionOnlyLM\n",
    "from tqdm import tqdm\n",
    "import numpy as np\n",
    "import random\n",
    "import os\n",
    "\n",
    "gc.collect()\n",
    "torch.cuda.empty_cache()"
   ]
  },
  {
   "cell_type": "code",
   "execution_count": 3,
   "id": "07888c1f",
   "metadata": {},
   "outputs": [],
   "source": [
    "DEVICE = \"cuda:0\" if torch.cuda.is_available() else \"cpu\"\n",
    "\n",
    "BASE_MODEL_NAME = \"meta-llama/Llama-2-13b-chat-hf\"\n",
    "SHORT_MODEL_NAME = \"llama2_13B_chat\""
   ]
  },
  {
   "cell_type": "code",
   "execution_count": 4,
   "id": "8c0d957a",
   "metadata": {},
   "outputs": [
    {
     "data": {
      "text/plain": [
       "DatasetDict({\n",
       "    train: Dataset({\n",
       "        features: ['text'],\n",
       "        num_rows: 20791\n",
       "    })\n",
       "    test: Dataset({\n",
       "        features: ['text'],\n",
       "        num_rows: 5198\n",
       "    })\n",
       "})"
      ]
     },
     "execution_count": 4,
     "metadata": {},
     "output_type": "execute_result"
    }
   ],
   "source": [
    "dataset = load_dataset('hotal/emergency_classification_prompt')\n",
    "dataset = dataset['train'].train_test_split(test_size=0.2)\n",
    "dataset"
   ]
  },
  {
   "cell_type": "code",
   "execution_count": 5,
   "id": "73e1ec07",
   "metadata": {},
   "outputs": [],
   "source": [
    "bnb_config = BitsAndBytesConfig(\n",
    "    load_in_4bit=True,\n",
    "    bnb_4bit_quant_type=\"nf4\",\n",
    "    bnb_4bit_use_double_quant=True,\n",
    "    bnb_4bit_compute_dtype=torch.bfloat16, ## Datatype for the 4bit weights\n",
    ")\n",
    "\n",
    "peft_config = LoraConfig(\n",
    "    r=16,\n",
    "    lora_alpha=64,\n",
    "    target_modules=['o_proj', 'up_proj', 'gate_proj', 'down_proj', 'k_proj', 'q_proj', 'v_proj'],\n",
    "    #modules_to_save=[\"embed_tokens\", \"lm_head\"], # To train special tokens as well\n",
    "    lora_dropout=0.1,\n",
    "    bias=\"none\",\n",
    "    task_type=\"CAUSAL_LM\",\n",
    ")"
   ]
  },
  {
   "cell_type": "code",
   "execution_count": null,
   "id": "cf23a305",
   "metadata": {},
   "outputs": [],
   "source": [
    "%%time\n",
    "\n",
    "base_model = AutoModelForCausalLM.from_pretrained(\n",
    "    BASE_MODEL_NAME, \n",
    "    torch_dtype=torch.bfloat16, ##\n",
    "    quantization_config=bnb_config,\n",
    "    use_cache = False,\n",
    "    device_map='auto',\n",
    "    max_memory = {i: '76GB' for i in range(torch.cuda.device_count())}, ## For A100 GPUs\n",
    "    pretraining_tp = 1 \n",
    ")\n",
    "base_model = prepare_model_for_kbit_training(base_model)\n",
    "\n",
    "base_tokenizer = AutoTokenizer.from_pretrained(BASE_MODEL_NAME, use_fast=False)\n",
    "base_tokenizer.eos_token = '</s>' # Fix eos issue of llama2\n",
    "base_tokenizer.pad_token = '<pad>'\n",
    "base_tokenizer.padding_side = \"right\"  # Fix weird overflow issue with fp16 training"
   ]
  },
  {
   "cell_type": "code",
   "execution_count": null,
   "id": "71d3d5b0",
   "metadata": {},
   "outputs": [],
   "source": [
    "# TRAIN\n",
    "training_args = TrainingArguments(\n",
    "    report_to=\"tensorboard\",\n",
    "    auto_find_batch_size=True,\n",
    "    per_device_train_batch_size=8,\n",
    "    per_device_eval_batch_size=8,\n",
    "    gradient_checkpointing=True,\n",
    "    max_grad_norm= 0.3,\n",
    "    num_train_epochs=5,\n",
    "    learning_rate=1e-4,\n",
    "    bf16=True, ##\n",
    "    save_total_limit=3,\n",
    "    output_dir=SHORT_MODEL_NAME+'_sft',\n",
    "    optim=\"paged_adamw_32bit\",\n",
    "    lr_scheduler_type=\"cosine\",\n",
    "    warmup_ratio=0.05,\n",
    "    evaluation_strategy=\"epoch\",\n",
    "    group_by_length=True,\n",
    ")\n",
    "\n",
    "trainer = SFTTrainer(\n",
    "    base_model,\n",
    "    train_dataset=dataset['train'],\n",
    "    eval_dataset=dataset['test'],\n",
    "    dataset_text_field=\"text\",\n",
    "    tokenizer=base_tokenizer,\n",
    "    peft_config=peft_config,\n",
    "    max_seq_length=4096,\n",
    "    packing=False,\n",
    "    args=training_args,\n",
    ")\n",
    "\n",
    "trainer.train() "
   ]
  },
  {
   "cell_type": "code",
   "execution_count": null,
   "id": "128e7795",
   "metadata": {},
   "outputs": [],
   "source": [
    "# Save losses to a file\n",
    "f = open(f'losses_{SHORT_MODEL_NAME+'_merged'}.txt', 'w+')\n",
    "f.write(str(trainer.state.log_history))\n",
    "f.close()"
   ]
  },
  {
   "cell_type": "code",
   "execution_count": null,
   "id": "05addd90",
   "metadata": {},
   "outputs": [],
   "source": [
    "# SAVE SFT\n",
    "trainer.save_model(SHORT_MODEL_NAME + '_sft')\n",
    "\n",
    "trainer.model.save_pretrained(SHORT_MODEL_NAME + '_sft/final')\n",
    "base_tokenizer.save_pretrained(SHORT_MODEL_NAME + '_sft/final')"
   ]
  },
  {
   "cell_type": "code",
   "execution_count": null,
   "id": "9ae8cdc4",
   "metadata": {},
   "outputs": [],
   "source": [
    "# MERGE ADAPTER\n",
    "torch.cuda.empty_cache()\n",
    "\n",
    "model = AutoPeftModelForCausalLM.from_pretrained(\n",
    "    SHORT_MODEL_NAME + '_sft/final', \n",
    "    device_map=\"cpu\", \n",
    "    torch_dtype=torch.bfloat16 ##\n",
    ")\n",
    "model = model.merge_and_unload()\n",
    "\n",
    "tokenizer = AutoTokenizer.from_pretrained(SHORT_MODEL_NAME + '_sft/final')\n",
    "\n",
    "model.save_pretrained(SHORT_MODEL_NAME + '_merged', safe_serialization=True)\n",
    "tokenizer.save_pretrained(SHORT_MODEL_NAME + '_merged')"
   ]
  },
  {
   "cell_type": "code",
   "execution_count": null,
   "id": "7cc021da",
   "metadata": {},
   "outputs": [],
   "source": [
    "print('DONE!')"
   ]
  },
  {
   "cell_type": "code",
   "execution_count": null,
   "id": "f1bfc910",
   "metadata": {},
   "outputs": [],
   "source": []
  }
 ],
 "metadata": {
  "kernelspec": {
   "display_name": "Python 3 (ipykernel)",
   "language": "python",
   "name": "python3"
  },
  "language_info": {
   "codemirror_mode": {
    "name": "ipython",
    "version": 3
   },
   "file_extension": ".py",
   "mimetype": "text/x-python",
   "name": "python",
   "nbconvert_exporter": "python",
   "pygments_lexer": "ipython3",
   "version": "3.10.12"
  }
 },
 "nbformat": 4,
 "nbformat_minor": 5
}
